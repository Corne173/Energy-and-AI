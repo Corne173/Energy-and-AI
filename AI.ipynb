{
 "cells": [
  {
   "cell_type": "raw",
   "id": "4ce062ba-898d-4e80-ab9e-41969110344f",
   "metadata": {
    "vscode": {
     "languageId": "raw"
    }
   },
   "source": [
    "---\n",
    "title: \"Energy and AI\"\n",
    "author: \"CNES\"\n",
    "format: \n",
    "    revealjs:\n",
    "        incremental: false\n",
    "        scrollable: true\n",
    "        smaller: true\n",
    "        theme: simple\n",
    "jupyter: python3\n",
    "---"
   ]
  },
  {
   "cell_type": "raw",
   "id": "c25508b9-e0b1-4dff-b9af-39faae8e7450",
   "metadata": {},
   "source": [
    "# AI Definition gang"
   ]
  },
  {
   "cell_type": "raw",
   "id": "cb95d0f0-ca3c-43b4-83fc-a6e595e572dd",
   "metadata": {
    "jupyter": {
     "source_hidden": true
    }
   },
   "source": [
    "## AI History\n",
    "![](AI development.png)"
   ]
  },
  {
   "cell_type": "raw",
   "id": "4df16ff6-e909-449e-82df-e0ba095177e5",
   "metadata": {},
   "source": [
    "## An overall flowchart for the ML technique\n",
    "![](An overall flowchart for the ML technique.jpg)\n",
    "\n",
    "Yaghoubi, E., Yaghoubi, E., Khamees, A., Razmi, D. and Lu, T., 2024. A systematic review and meta-analysis of machine learning, deep learning, and ensemble learning approaches in predicting EV charging behavior. Engineering Applications of Artificial Intelligence, 135, p.108789."
   ]
  },
  {
   "cell_type": "raw",
   "id": "1b9007ac-36e9-4fd4-bf52-cb4146ea40f4",
   "metadata": {},
   "source": [
    "# AI model"
   ]
  },
  {
   "cell_type": "raw",
   "id": "4edb8fa7-a1ec-4970-aeee-d856a04a8ac4",
   "metadata": {},
   "source": [
    "## Supervised Learning Models (ANN,rnn,cnn) dumo"
   ]
  },
  {
   "cell_type": "raw",
   "id": "3c938a90-f099-4b3d-ab75-80fda34e4147",
   "metadata": {},
   "source": [
    "## Unsupervised Learning Models (K-MEAN) sakhile"
   ]
  },
  {
   "cell_type": "raw",
   "id": "fa4008f0-d829-4958-aa89-21402e8e20af",
   "metadata": {},
   "source": [
    "## Reinforcement Learning\n",
    "Reinforcement Learning discover which actions yield the most reward.\n",
    "![Reinforcement learning framework](RL.png)"
   ]
  },
  {
   "cell_type": "raw",
   "id": "3712c92f-ceff-492c-80e7-dde4087993bd",
   "metadata": {},
   "source": [
    "## Generative AI Models DONG\n",
    "\n",
    "| Type of AI                            | Core Breakthrough                            | Human Analogy                | Key Differentiator                                                       | Common Techniques                                                                   | Practical Examples                                                                    |\n",
    "|:--------------------------------------|:---------------------------------------------|:-----------------------------|:-------------------------------------------------------------------------|:------------------------------------------------------------------------------------|:--------------------------------------------------------------------------------------|\n",
    "| Weak AI                               | Execution (Task Performance)                 | Tool                         | Can only complete narrow tasks, not generalize or transfer               | Supervised learning, rule-based systems, decision trees                             | Image classification, speech recognition, recommendation systems                      |\n",
    "| Human-like AI                         | Imitation (Reactive Simulation)              | Actor / Mimicker             | Has 'human-like expression' but lacks contextual understanding and goals | NLP, speech recognition, affective computing                | Customer service bots, social robots, virtual shopping assistants                     |\n",
    "| Human-level AI                        | Thinking (Multi-task Reasoning)              | Intern                       | Can 'perform like a human' across multiple tasks                         | DL, RL, transfer learning                            | AlphaGo, ChatGPT, multimodal Q&A systems                                              |\n",
    "| Artificial General Intelligence (AGI) | General Adaptability (Cross-domain Learning) | Colleague / Researcher       | Not only performs tasks like a human, but can generalize and innovate    | Meta-learning, cross-modal learning, self-supervised learning                       | Hypothetical OpenCog, DeepMind’s Gato                                                 |\n",
    "| Strong AI                             | Self-awareness and Moral Judgment            | Independent Human Individual | Understands 'why' something is done, not just 'how'                      | Explainable AI, causal inference, emotion modeling networks                         | AI-assisted legal decision systems, interactive mental health AI (human-aiding tools) |\n",
    "| Artificial Superintelligence (ASI)    | Superhuman Capability + Self-Improvement     | Deity / Super Being          | Beyond human cognition, unpredictable intentions and paths               | Theoretical approaches including neuroarchitecture search, self-evolving algorithms | AI-led climate modeling, AutoML, AGI governance research (still theoretical)          |\n",
    "\n",
    "<p style=\"font-size: 12px; font-style: italic;\">\n",
    "From: Raman R, Kowalski R, Achuthan K, et al. Navigating artificial general intelligence development: societal, technological, ethical, and brain-inspired pathways[J]. Scientific Reports, 2025, 15(1): 1-22.\n",
    "</p>"
   ]
  },
  {
   "cell_type": "raw",
   "id": "7e372a82-ae08-43f9-9ae4-d2f6f9bbeae3",
   "metadata": {},
   "source": [
    "#Artificial general intelligence \n",
    "![AI Table](AGI.png)"
   ]
  },
  {
   "cell_type": "raw",
   "id": "da5291d6-9e7d-485a-aa4a-68919cd7f7a1",
   "metadata": {},
   "source": [
    "# AI tool CORNE\n",
    "FUNCTION AND RELATIONSHIP"
   ]
  },
  {
   "cell_type": "markdown",
   "id": "ef5285ab-ac60-45c8-92be-09b648d203dd",
   "metadata": {},
   "source": [
    "# AI application in building dumo"
   ]
  },
  {
   "cell_type": "raw",
   "id": "59ef38d7-1dcf-4238-84db-22b3cf36728c",
   "metadata": {},
   "source": [
    "## AI application in charging infrastructure\n",
    "+ Charging station placement and sizing optimization\n",
    "+ Charging demand and charging station utilization forecasting\n",
    "+ Charge and discharging control and coordination\n",
    "+ Dynamic charging pricing\n",
    "+ Electric vehicle routing, navigation and charging station selection"
   ]
  },
  {
   "cell_type": "raw",
   "id": "1e6680e1-4f8a-4031-a3b4-12080c113649",
   "metadata": {},
   "source": [
    "## AI application in autonomous driving\n",
    "+ Nearby vehicles behavior prediction\n",
    "+ Motion Control\n",
    "+ Pedestrian Detection\n",
    "+ Obstacle Detection\n",
    "+ Lane Recognition\n",
    "+ Vehicle failure prognosis \n"
   ]
  },
  {
   "cell_type": "raw",
   "id": "ee045e0f-e6c4-4a7e-ae27-47717c0341ca",
   "metadata": {},
   "source": [
    "# AI application in residential sakhile"
   ]
  },
  {
   "cell_type": "raw",
   "id": "84efe22c-6162-4afa-bbef-64e0613cef03",
   "metadata": {},
   "source": [
    "## AI for Banana Disease and Pest Detection\n",
    "\n",
    "![Selvaraj M G, Vergara A, Ruiz H, et al. AI-powered banana diseases and pest detection [J]. **Plant Methods**, 2019, 15: 1–11.](banana.jpg)\n",
    "\n",
    "+ 1\n",
    "+ 2 \n",
    "+ 3"
   ]
  },
  {
   "cell_type": "raw",
   "id": "75dca0a3-0957-451d-a95e-34bcb8629dcb",
   "metadata": {},
   "source": [
    "## Slide with speaker notes\n",
    "\n",
    "I am a [This is red and small]{style=\"color: red; font-size: 12px;\"} word.\n",
    "$\\tyni ai$"
   ]
  },
  {
   "cell_type": "raw",
   "id": "cc109da5-d8cb-4828-872d-c80bfb439b66",
   "metadata": {},
   "source": [
    "## Framework of Deep Vision Transformer Model for Potato and Tomato Disease Classification\n",
    "\n",
    "![Kamal S, Sharma P, Gupta P K, et al. DVTXAI: a novel deep vision transformer with an explainable AI-based framework and its application in agriculture[J]. The Journal of Supercomputing, 2025, 81(1): 1-32.](leaf.jpg)"
   ]
  },
  {
   "cell_type": "raw",
   "id": "9780e455-73a0-48ee-81ea-0e49eaded043",
   "metadata": {},
   "source": [
    "# AI application in power generation corne "
   ]
  },
  {
   "cell_type": "raw",
   "id": "e803a5d9-0226-41e7-a7e8-9a7d63f3b1c8",
   "metadata": {},
   "source": [
    "# AI in transmission sakhile"
   ]
  },
  {
   "cell_type": "raw",
   "id": "57b50259-1ac7-4140-aeda-5a48dfee8042",
   "metadata": {},
   "source": [
    "# AI in distribution sakhile"
   ]
  },
  {
   "cell_type": "raw",
   "id": "64de2646-2d76-448a-b208-03a32c7b7058",
   "metadata": {},
   "source": [
    "# AI in industry corne"
   ]
  },
  {
   "cell_type": "markdown",
   "id": "fe198ea9-f8a0-4a9f-bf3a-561d5885c565",
   "metadata": {},
   "source": [
    "## RL map\n",
    "![trajectory](trajectory.png){width=300}"
   ]
  },
  {
   "cell_type": "code",
   "execution_count": null,
   "id": "3f6dc05b-5142-4f3e-a48b-972a0e245a60",
   "metadata": {},
   "outputs": [],
   "source": []
  }
 ],
 "metadata": {
  "kernelspec": {
   "display_name": "Python [conda env:base] *",
   "language": "python",
   "name": "conda-base-py"
  },
  "language_info": {
   "codemirror_mode": {
    "name": "ipython",
    "version": 3
   },
   "file_extension": ".py",
   "mimetype": "text/x-python",
   "name": "python",
   "nbconvert_exporter": "python",
   "pygments_lexer": "ipython3",
   "version": "3.9.21"
  }
 },
 "nbformat": 4,
 "nbformat_minor": 5
}
